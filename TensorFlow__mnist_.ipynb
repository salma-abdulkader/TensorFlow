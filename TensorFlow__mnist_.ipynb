{
  "nbformat": 4,
  "nbformat_minor": 0,
  "metadata": {
    "colab": {
      "provenance": [],
      "toc_visible": true
    },
    "kernelspec": {
      "name": "python3",
      "display_name": "Python 3"
    },
    "language_info": {
      "name": "python"
    }
  },
  "cells": [
    {
      "cell_type": "markdown",
      "source": [
        "# **Model For Education Using Mnist**"
      ],
      "metadata": {
        "id": "AdDSpU0_Ff-g"
      }
    },
    {
      "cell_type": "code",
      "source": [
        "import tensorflow as tf"
      ],
      "metadata": {
        "id": "x8RYDA0xqCL5"
      },
      "execution_count": 13,
      "outputs": []
    },
    {
      "cell_type": "code",
      "source": [
        "mnist = tf.keras.datasets.mnist\n",
        "(x_train, y_train), (x_test, y_test) = mnist.load_data()"
      ],
      "metadata": {
        "id": "91DE15gTqCOD",
        "colab": {
          "base_uri": "https://localhost:8080/"
        },
        "outputId": "92a46223-8a2a-49a7-b97d-e13e4c314b59"
      },
      "execution_count": 14,
      "outputs": [
        {
          "output_type": "stream",
          "name": "stdout",
          "text": [
            "Downloading data from https://storage.googleapis.com/tensorflow/tf-keras-datasets/mnist.npz\n",
            "\u001b[1m11490434/11490434\u001b[0m \u001b[32m━━━━━━━━━━━━━━━━━━━━\u001b[0m\u001b[37m\u001b[0m \u001b[1m0s\u001b[0m 0us/step\n"
          ]
        }
      ]
    },
    {
      "cell_type": "code",
      "source": [
        "print(\"x_train shape : \", x_train.shape)\n",
        "#print(x_train[5])\n",
        "print(\"y_train shape : \", y_train.shape)\n",
        "#print(y_train[5])\n",
        "print(\"x_test shape : \", x_test.shape)\n",
        "#print(x_test[5])\n",
        "print(\"y_test shape : \", y_test)\n",
        "#print(y_test[5])"
      ],
      "metadata": {
        "id": "2WB8yYlRqCQq",
        "colab": {
          "base_uri": "https://localhost:8080/"
        },
        "outputId": "134856eb-2c53-4255-e493-1740c56336ad"
      },
      "execution_count": 21,
      "outputs": [
        {
          "output_type": "stream",
          "name": "stdout",
          "text": [
            "x_train shape :  (60000, 28, 28)\n",
            "y_train shape :  (60000,)\n",
            "x_test shape :  (10000, 28, 28)\n",
            "y_test shape :  [7 2 1 ... 4 5 6]\n"
          ]
        }
      ]
    },
    {
      "cell_type": "code",
      "source": [
        "model = tf.keras.models.Sequential()\n",
        "'''\n",
        "Sequantial-> it's the \"class\" of deep nueral network\n",
        "this build model without input or hidden layers or ouput\n",
        "'''"
      ],
      "metadata": {
        "id": "VirPR1YwqCSl",
        "colab": {
          "base_uri": "https://localhost:8080/",
          "height": 36
        },
        "outputId": "df5bf58d-ca39-4e16-94a6-930527ce0ef2"
      },
      "execution_count": 23,
      "outputs": [
        {
          "output_type": "execute_result",
          "data": {
            "text/plain": [
              "'\\nSequantial-> it\\'s the \"class\" of deep nueral network\\nthis build model without input or hidden layers or ouput\\n'"
            ],
            "application/vnd.google.colaboratory.intrinsic+json": {
              "type": "string"
            }
          },
          "metadata": {},
          "execution_count": 23
        }
      ]
    },
    {
      "cell_type": "code",
      "source": [
        "model.add(tf.keras.layers.Flatten()) #ex: Flatten takes -> input_shape=(28, 28) as a parameter"
      ],
      "metadata": {
        "id": "UN4WFiDHqCWl"
      },
      "execution_count": 32,
      "outputs": []
    },
    {
      "cell_type": "code",
      "source": [
        "model.add(tf.keras.layers.Dense(128, activation = tf.nn.relu))    #for input\n",
        "\n",
        "'''\n",
        "128 -> number of units or neurons\n",
        "activation functions -> softmax, relu, linear, sigmoid, tanh, etc\n",
        "'''"
      ],
      "metadata": {
        "id": "IVC0pW0SqCqE",
        "colab": {
          "base_uri": "https://localhost:8080/",
          "height": 36
        },
        "outputId": "038fe32a-b397-4108-ec26-b8643a6962d2"
      },
      "execution_count": 36,
      "outputs": [
        {
          "output_type": "execute_result",
          "data": {
            "text/plain": [
              "'\\n128 -> number of units or neurons\\nactivation functions -> softmax, relu, linear, sigmoid, tanh, etc\\n'"
            ],
            "application/vnd.google.colaboratory.intrinsic+json": {
              "type": "string"
            }
          },
          "metadata": {},
          "execution_count": 36
        }
      ]
    },
    {
      "cell_type": "code",
      "source": [
        "model.add(tf.keras.layers.Dropout(0,2))\n",
        "#0.2 -> ration of units that will be droped out\n",
        "#droped units or neurons -> randomly deleted\n",
        "'''\n",
        "reduce connections, so make model faster\n",
        "reduce overfitting, so make model better\n",
        "'''"
      ],
      "metadata": {
        "id": "2K-M0GDfqCr0",
        "colab": {
          "base_uri": "https://localhost:8080/",
          "height": 36
        },
        "outputId": "344b4b8a-df01-4207-e009-7ead0c69736a"
      },
      "execution_count": 38,
      "outputs": [
        {
          "output_type": "execute_result",
          "data": {
            "text/plain": [
              "'\\nreduce connections, so make model faster\\nreduce overfitting, so make model better\\n'"
            ],
            "application/vnd.google.colaboratory.intrinsic+json": {
              "type": "string"
            }
          },
          "metadata": {},
          "execution_count": 38
        }
      ]
    },
    {
      "cell_type": "code",
      "source": [
        "model.add(tf.keras.layers.Dense(10, activation = tf.nn.softmax))    #for output\n",
        "#10 -> beacuse \"mnist dataset\" from 0 to 9 \"number of classes that i will apply classification on it\"\n",
        "\n",
        "'''\n",
        "128 -> number of units or neurons\n",
        "activation functions -> softmax, relu, linear, sigmoid, tanh, etc\n",
        "'''"
      ],
      "metadata": {
        "id": "QFd3Lq4YqCuI",
        "colab": {
          "base_uri": "https://localhost:8080/",
          "height": 36
        },
        "outputId": "e8986cae-da3c-41a4-a351-fc20c9c49b05"
      },
      "execution_count": 40,
      "outputs": [
        {
          "output_type": "execute_result",
          "data": {
            "text/plain": [
              "'\\n128 -> number of units or neurons\\nactivation functions -> softmax, relu, linear, sigmoid, tanh, etc\\n'"
            ],
            "application/vnd.google.colaboratory.intrinsic+json": {
              "type": "string"
            }
          },
          "metadata": {},
          "execution_count": 40
        }
      ]
    },
    {
      "cell_type": "code",
      "source": [
        "model.compile(optimizer = 'adam', loss = 'sparse_categorical_crossentropy', metrics = ['accuracy'])\n",
        "#'adam' is the best type of gradient descent\n",
        "#loss -> cost function\n",
        "\n",
        "'''\n",
        "sparse_categorical_crossentropy -> loss function for classification\n",
        "\n",
        "فى حالة التوقع \"mes\"\n",
        "فى حالة تصنيف ثنائى \"binary crossentropy\"\n",
        "فى حالة تصنيف متعدد \"categorical crossentropy\"\n",
        "'''"
      ],
      "metadata": {
        "id": "EnqG4wI1qCwr",
        "colab": {
          "base_uri": "https://localhost:8080/",
          "height": 54
        },
        "outputId": "5946361f-d62a-40ca-a970-4d568c957a89"
      },
      "execution_count": 50,
      "outputs": [
        {
          "output_type": "execute_result",
          "data": {
            "text/plain": [
              "'\\nsparse_categorical_crossentropy -> loss function for classification\\n\\nفى حالة التوقع \"mes\"\\nفى حالة تصنيف ثنائى \"binary crossentropy\"\\nفى حالة تصنيف متعدد \"categorical crossentropy\"\\n'"
            ],
            "application/vnd.google.colaboratory.intrinsic+json": {
              "type": "string"
            }
          },
          "metadata": {},
          "execution_count": 50
        }
      ]
    },
    {
      "cell_type": "code",
      "source": [
        "model.fit(x_train, y_train, epochs = 3)"
      ],
      "metadata": {
        "id": "Miv1B0CvqCzQ",
        "colab": {
          "base_uri": "https://localhost:8080/"
        },
        "outputId": "84fd7894-701f-4390-e969-56dba081c0fa"
      },
      "execution_count": 42,
      "outputs": [
        {
          "output_type": "stream",
          "name": "stdout",
          "text": [
            "Epoch 1/3\n",
            "\u001b[1m1875/1875\u001b[0m \u001b[32m━━━━━━━━━━━━━━━━━━━━\u001b[0m\u001b[37m\u001b[0m \u001b[1m11s\u001b[0m 5ms/step - accuracy: 0.1046 - loss: 2.3111\n",
            "Epoch 2/3\n",
            "\u001b[1m1875/1875\u001b[0m \u001b[32m━━━━━━━━━━━━━━━━━━━━\u001b[0m\u001b[37m\u001b[0m \u001b[1m8s\u001b[0m 4ms/step - accuracy: 0.1157 - loss: 2.2976\n",
            "Epoch 3/3\n",
            "\u001b[1m1875/1875\u001b[0m \u001b[32m━━━━━━━━━━━━━━━━━━━━\u001b[0m\u001b[37m\u001b[0m \u001b[1m8s\u001b[0m 4ms/step - accuracy: 0.1900 - loss: 2.0787\n"
          ]
        },
        {
          "output_type": "execute_result",
          "data": {
            "text/plain": [
              "<keras.src.callbacks.history.History at 0x7c8adb9b53f0>"
            ]
          },
          "metadata": {},
          "execution_count": 42
        }
      ]
    },
    {
      "cell_type": "code",
      "source": [
        "output = model.predict(x_test)\n",
        "\n",
        "print(output[5])"
      ],
      "metadata": {
        "id": "UfY38BUgqC1h",
        "colab": {
          "base_uri": "https://localhost:8080/"
        },
        "outputId": "9e4a2f38-b1da-4a49-cafd-0217d531299e"
      },
      "execution_count": 47,
      "outputs": [
        {
          "output_type": "stream",
          "name": "stdout",
          "text": [
            "\u001b[1m313/313\u001b[0m \u001b[32m━━━━━━━━━━━━━━━━━━━━\u001b[0m\u001b[37m\u001b[0m \u001b[1m1s\u001b[0m 2ms/step\n",
            "[0.0216769  0.1391216  0.12514883 0.12803186 0.11939919 0.07544243\n",
            " 0.12354019 0.0389059  0.11566194 0.11307108]\n"
          ]
        }
      ]
    },
    {
      "cell_type": "code",
      "source": [
        "for i in range(10):\n",
        "    print(output[i], \"\\n\")"
      ],
      "metadata": {
        "id": "jWhAmXxqqC3o",
        "colab": {
          "base_uri": "https://localhost:8080/"
        },
        "outputId": "a2eff28e-06d0-46d8-ce7d-d21bfc0e1ce9"
      },
      "execution_count": 49,
      "outputs": [
        {
          "output_type": "stream",
          "name": "stdout",
          "text": [
            "[0.3769018  0.00604212 0.00998902 0.01300781 0.02465426 0.13258792\n",
            " 0.01426875 0.3491179  0.01209801 0.06133237] \n",
            "\n",
            "[0.0216769  0.1391216  0.12514883 0.12803186 0.11939919 0.07544243\n",
            " 0.12354019 0.0389059  0.11566194 0.11307108] \n",
            "\n",
            "[0.0216769  0.1391216  0.12514883 0.12803186 0.11939919 0.07544243\n",
            " 0.12354019 0.0389059  0.11566194 0.11307108] \n",
            "\n",
            "[0.3769018  0.00604212 0.00998902 0.01300781 0.02465426 0.13258792\n",
            " 0.01426875 0.3491179  0.01209801 0.06133237] \n",
            "\n",
            "[0.0216769  0.1391216  0.12514883 0.12803186 0.11939919 0.07544243\n",
            " 0.12354019 0.0389059  0.11566194 0.11307108] \n",
            "\n",
            "[0.0216769  0.1391216  0.12514883 0.12803186 0.11939919 0.07544243\n",
            " 0.12354019 0.0389059  0.11566194 0.11307108] \n",
            "\n",
            "[0.0216769  0.1391216  0.12514883 0.12803186 0.11939919 0.07544243\n",
            " 0.12354019 0.0389059  0.11566194 0.11307108] \n",
            "\n",
            "[0.0216769  0.1391216  0.12514883 0.12803186 0.11939919 0.07544243\n",
            " 0.12354019 0.0389059  0.11566194 0.11307108] \n",
            "\n",
            "[0.0216769  0.1391216  0.12514883 0.12803186 0.11939919 0.07544243\n",
            " 0.12354019 0.0389059  0.11566194 0.11307108] \n",
            "\n",
            "[0.3769018  0.00604212 0.00998902 0.01300781 0.02465426 0.13258792\n",
            " 0.01426875 0.3491179  0.01209801 0.06133237] \n",
            "\n"
          ]
        }
      ]
    },
    {
      "cell_type": "code",
      "source": [
        "val_loss, val_acc = model.evaluate(x_test, y_test)\n",
        "print(val_loss, val_acc)"
      ],
      "metadata": {
        "colab": {
          "base_uri": "https://localhost:8080/"
        },
        "id": "jH1KLqqDDM3B",
        "outputId": "ba75c7ad-09e1-4ccb-efb0-a4f8cac9a1a3"
      },
      "execution_count": 51,
      "outputs": [
        {
          "output_type": "stream",
          "name": "stdout",
          "text": [
            "\u001b[1m313/313\u001b[0m \u001b[32m━━━━━━━━━━━━━━━━━━━━\u001b[0m\u001b[37m\u001b[0m \u001b[1m1s\u001b[0m 2ms/step - accuracy: 0.1981 - loss: 2.0510\n",
            "2.022089958190918 0.20149999856948853\n"
          ]
        }
      ]
    },
    {
      "cell_type": "code",
      "source": [
        "model.save('mnist_model.h5')"
      ],
      "metadata": {
        "colab": {
          "base_uri": "https://localhost:8080/"
        },
        "id": "bvfs_qIjDM0J",
        "outputId": "9961869b-5cf1-4b96-c040-e8bb8d4bd100"
      },
      "execution_count": 52,
      "outputs": [
        {
          "output_type": "stream",
          "name": "stderr",
          "text": [
            "WARNING:absl:You are saving your model as an HDF5 file via `model.save()` or `keras.saving.save_model(model)`. This file format is considered legacy. We recommend using instead the native Keras format, e.g. `model.save('my_model.keras')` or `keras.saving.save_model(model, 'my_model.keras')`. \n"
          ]
        }
      ]
    },
    {
      "cell_type": "markdown",
      "source": [
        "# **Load Model I Svaed Before**"
      ],
      "metadata": {
        "id": "spxrGsm-E9cM"
      }
    },
    {
      "cell_type": "code",
      "source": [
        "new_model = tf.keras.models.load_model('mnist_model.h5')"
      ],
      "metadata": {
        "id": "_0Ija_onqC8g"
      },
      "execution_count": null,
      "outputs": []
    },
    {
      "cell_type": "markdown",
      "source": [
        "# **To Do All In One Line**"
      ],
      "metadata": {
        "id": "s0Q5vJzGFZCg"
      }
    },
    {
      "cell_type": "code",
      "source": [
        "model = tf.keras.models.Sequential(\n",
        "    [tf.keras.layers.Flatten(input_shape=(28, 28)),\n",
        "     tf.keras.layers.Dense(128, activation = tf.nn.relu),\n",
        "     tf.keras.layers.Dense(128, activation = tf.nn.relu),\n",
        "     tf.keras.layers.Dropout(0.2),\n",
        "     tf.keras.layers.Dense(10, activation = tf.nn.softmax)]\n",
        ")"
      ],
      "metadata": {
        "id": "gXTw228oqC_Y",
        "colab": {
          "base_uri": "https://localhost:8080/"
        },
        "outputId": "e6c80d4c-e539-4de4-8815-6826e4efe5bf"
      },
      "execution_count": 57,
      "outputs": [
        {
          "output_type": "stream",
          "name": "stderr",
          "text": [
            "/usr/local/lib/python3.10/dist-packages/keras/src/layers/reshaping/flatten.py:37: UserWarning: Do not pass an `input_shape`/`input_dim` argument to a layer. When using Sequential models, prefer using an `Input(shape)` object as the first layer in the model instead.\n",
            "  super().__init__(**kwargs)\n"
          ]
        }
      ]
    }
  ]
}